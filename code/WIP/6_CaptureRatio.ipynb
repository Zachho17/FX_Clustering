{
 "cells": [
  {
   "cell_type": "code",
   "execution_count": null,
   "id": "27a761f5-d66f-4b43-9573-6e0a2785e737",
   "metadata": {},
   "outputs": [],
   "source": [
    "# import libraries\n",
    "import pandas as pd\n",
    "import numpy as np\n",
    "import matplotlib.pyplot as plt\n",
    "import seaborn as sns\n",
    "from sklearn.preprocessing import StandardScaler\n",
    "\n",
    "# import helper function\n",
    "def arrange_data(cluster, ccy):\n",
    "    # Separate the cluster data into two different dictionaries for manipulation\n",
    "    dict = {}\n",
    "    for i in range(0, len(cluster)):\n",
    "        data = [x for x in cluster.iloc[i].to_list() if str(x) != 'nan']\n",
    "        dict[f'cluster{i+1}'] = data\n",
    "\n",
    "    sets = {}\n",
    "    for counter, c in enumerate(dict, 1):\n",
    "        data = ccy[dict[c]]\n",
    "        sets[f'set{counter}'] = data\n",
    "\n",
    "    return dict, sets\n",
    "\n",
    "def scaler(df):\n",
    "    ss = StandardScaler()\n",
    "    df_scaled = ss.fit_transform(df)\n",
    "    df_scaled = pd.DataFrame(data=df_scaled,\n",
    "                             columns=df.columns,\n",
    "                             index=df.index)\n",
    "    return df_scaled"
   ]
  },
  {
   "cell_type": "code",
   "execution_count": null,
   "id": "6901a8ed-8c2f-474c-9c72-46c9ad9628ec",
   "metadata": {},
   "outputs": [],
   "source": [
    "dtw_cluster = pd.read_csv('../data/DTW_cluster.csv')\n",
    "\n",
    "ccy = pd.read_csv('../data/ccy1996_to_2023(c).csv')\n",
    "ccy = ccy[313:]\n",
    "ccy.set_index('Date', inplace=True)\n",
    "ccy_scaled = scaler(ccy)\n",
    "\n",
    "factors = pd.read_csv('../data/combine_factors.csv')\n",
    "factors.rename(columns={'Unnamed: 0':'Date'}, inplace=True)\n",
    "factors.set_index('Date', inplace=True)\n",
    "factors_scaled = scaler(factors)"
   ]
  },
  {
   "cell_type": "code",
   "execution_count": null,
   "id": "faa79bc5-7490-4346-a5f8-50b1b57d218d",
   "metadata": {},
   "outputs": [],
   "source": [
    "dict, sets = arrange_data(dtw_cluster, ccy_scaled)\n",
    "c1 = sets['set1']\n",
    "c2 = sets['set2']\n",
    "c3 = sets['set3']"
   ]
  },
  {
   "cell_type": "code",
   "execution_count": null,
   "id": "0eb8047d-ce89-4de5-89cd-6c72a4b7a2be",
   "metadata": {},
   "outputs": [],
   "source": []
  },
  {
   "cell_type": "code",
   "execution_count": null,
   "id": "2f38b769-bbf5-4ff1-b56c-9d56ce264cf6",
   "metadata": {},
   "outputs": [],
   "source": []
  },
  {
   "cell_type": "code",
   "execution_count": null,
   "id": "37bb2ad2-d175-4419-a62c-47b8cca90c36",
   "metadata": {},
   "outputs": [],
   "source": []
  },
  {
   "cell_type": "code",
   "execution_count": null,
   "id": "7635ab7e-3ab2-4d0d-959e-899767e89b93",
   "metadata": {},
   "outputs": [],
   "source": []
  },
  {
   "cell_type": "code",
   "execution_count": null,
   "id": "24ff9624-77e2-4146-b03f-079e3f117f43",
   "metadata": {},
   "outputs": [],
   "source": []
  },
  {
   "cell_type": "code",
   "execution_count": null,
   "id": "a0aba290-e378-48a4-9045-be129987b7da",
   "metadata": {},
   "outputs": [],
   "source": []
  }
 ],
 "metadata": {
  "kernelspec": {
   "display_name": "Python 3 (ipykernel)",
   "language": "python",
   "name": "python3"
  },
  "language_info": {
   "codemirror_mode": {
    "name": "ipython",
    "version": 3
   },
   "file_extension": ".py",
   "mimetype": "text/x-python",
   "name": "python",
   "nbconvert_exporter": "python",
   "pygments_lexer": "ipython3",
   "version": "3.10.13"
  }
 },
 "nbformat": 4,
 "nbformat_minor": 5
}
